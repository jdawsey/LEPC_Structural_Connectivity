{
 "cells": [
  {
   "cell_type": "markdown",
   "metadata": {},
   "source": [
    "Consolidate code from other scripts. This script is used to generate graphs representing the edges between all known leks. Stats are then generated from this."
   ]
  },
  {
   "cell_type": "code",
   "execution_count": 4,
   "metadata": {},
   "outputs": [],
   "source": [
    "import pandas as pd\n",
    "import igraph as ig\n",
    "import numpy as np\n",
    "from pyproj import Transformer\n",
    "import geopandas as gpd\n",
    "from shapely.geometry import Point, LineString\n",
    "import geopandas as gpd\n",
    "import graph_functions as graf"
   ]
  },
  {
   "cell_type": "code",
   "execution_count": 3,
   "metadata": {},
   "outputs": [],
   "source": [
    "# importing the data\n",
    "df = pd.read_csv(\"E:/!!Research/!!!Data/graph_analysis/lek_data/cleaned_data/unk_loc_leks_data/lek_data_binary_yearly_activity_unk_loc_leks.csv\")\n",
    "\n",
    "# dropping the column from the last time was exported\n",
    "df.drop(['year', 'activity'], axis = 1, inplace = True)\n",
    "unique_leks = df.drop_duplicates()"
   ]
  },
  {
   "cell_type": "code",
   "execution_count": 9,
   "metadata": {},
   "outputs": [
    {
     "name": "stdout",
     "output_type": "stream",
     "text": [
      "graph created for leks at max dispersal threshold distance\n"
     ]
    }
   ],
   "source": [
    "year_graph = graf.imprv_threshold_graph(unique_leks, 75000)\n",
    "year_graph.write_adjacency(f'E:/!!Research/!!!Data/graph_analysis/igraph_graphs/full_graphs/unk_loc_leks/max_dispersal.adjacency')\n",
    "print(f'graph created for leks at max dispersal threshold distance')"
   ]
  },
  {
   "cell_type": "code",
   "execution_count": 8,
   "metadata": {},
   "outputs": [
    {
     "name": "stdout",
     "output_type": "stream",
     "text": [
      "graph created for leks at average dispersal threshold distance\n"
     ]
    }
   ],
   "source": [
    "year_graph = graf.imprv_threshold_graph(unique_leks, 19000)\n",
    "year_graph.write_adjacency(f'E:/!!Research/!!!Data/graph_analysis/igraph_graphs/full_graphs/unk_loc_leks/avg_dispersal.adjacency')\n",
    "print(f'graph created for leks at average dispersal threshold distance')"
   ]
  },
  {
   "cell_type": "code",
   "execution_count": 7,
   "metadata": {},
   "outputs": [
    {
     "name": "stdout",
     "output_type": "stream",
     "text": [
      "graph created for leks at round trip threshold distance\n"
     ]
    }
   ],
   "source": [
    "year_graph = graf.imprv_threshold_graph(unique_leks, 13000)\n",
    "year_graph.write_adjacency(f'E:/!!Research/!!!Data/graph_analysis/igraph_graphs/full_graphs/unk_loc_leks/rnd_trip.adjacency')\n",
    "print(f'graph created for leks at round trip threshold distance')"
   ]
  },
  {
   "cell_type": "code",
   "execution_count": 6,
   "metadata": {},
   "outputs": [
    {
     "name": "stdout",
     "output_type": "stream",
     "text": [
      "graph created for leks at nesting threshold distance\n"
     ]
    }
   ],
   "source": [
    "year_graph = graf.imprv_threshold_graph(unique_leks, 4800)\n",
    "year_graph.write_adjacency(f'E:/!!Research/!!!Data/graph_analysis/igraph_graphs/full_graphs/unk_loc_leks/threshold_48.adjacency')\n",
    "print(f'graph created for leks at nesting threshold distance')"
   ]
  },
  {
   "cell_type": "code",
   "execution_count": 5,
   "metadata": {},
   "outputs": [
    {
     "name": "stdout",
     "output_type": "stream",
     "text": [
      "graph created for leks at 1.6 km threshold distance\n"
     ]
    }
   ],
   "source": [
    "year_graph = graf.imprv_threshold_graph(unique_leks, 1600)\n",
    "year_graph.write_adjacency(f'E:/!!Research/!!!Data/graph_analysis/igraph_graphs/full_graphs/unk_loc_leks/threshold_16.adjacency')\n",
    "print(f'graph created for leks at 1.6 km threshold distance')"
   ]
  },
  {
   "cell_type": "code",
   "execution_count": 4,
   "metadata": {},
   "outputs": [
    {
     "name": "stdout",
     "output_type": "stream",
     "text": [
      "graph created for leks at 2 km threshold distance\n"
     ]
    }
   ],
   "source": [
    "year_graph = graf.imprv_threshold_graph(unique_leks, 2000)\n",
    "year_graph.write_adjacency(f'E:/!!Research/!!!Data/graph_analysis/igraph_graphs/full_graphs/unk_loc_leks/threshold_2.adjacency')\n",
    "print(f'graph created for leks at 2 km threshold distance')"
   ]
  },
  {
   "cell_type": "markdown",
   "metadata": {},
   "source": [
    "Reads in graphs and finds hub and centrality scores for each lek."
   ]
  },
  {
   "cell_type": "code",
   "execution_count": 6,
   "metadata": {},
   "outputs": [],
   "source": [
    "import igraph as ig\n",
    "import pandas as pd\n",
    "import numpy as np\n",
    "\n",
    "def all_lek_node_metrics_df(file_path, year_df):\n",
    "    leks = []  # lek id\n",
    "    x_easting = []  # lek coordinates\n",
    "    y_northing = []\n",
    "    hub_scores = []\n",
    "    centrality_scores = []\n",
    "\n",
    "    # Extract leks and coordinates\n",
    "    leks.extend(year_df['lek_id'].tolist())\n",
    "    x_easting.extend(year_df['x_easting'].tolist())\n",
    "    y_northing.extend(year_df['y_northing'].tolist())\n",
    "\n",
    "    # Create the graph from the adjacency file\n",
    "    graph = ig.Graph.Read_Adjacency(file_path)\n",
    "\n",
    "    # Identify connected components\n",
    "    components = graph.connected_components()\n",
    "\n",
    "    # Initialize scores with NaN to identify nodes in disconnected components not processed\n",
    "    hub_score_map = {v.index: float('nan') for v in graph.vs}\n",
    "    centrality_map = {v.index: float('nan') for v in graph.vs}\n",
    "\n",
    "    # Process each component separately\n",
    "    for component in components:\n",
    "        subgraph = graph.subgraph(component)\n",
    "\n",
    "        # Compute hub scores and betweenness centrality for the subgraph\n",
    "        subgraph_hub_scores = subgraph.hub_score()\n",
    "        subgraph_centrality_scores = subgraph.betweenness()\n",
    "\n",
    "        # Map back to the original graph\n",
    "        for i, node_index in enumerate(component):\n",
    "            hub_score_map[node_index] = subgraph_hub_scores[i]\n",
    "            centrality_map[node_index] = subgraph_centrality_scores[i]\n",
    "\n",
    "    # Retrieve scores for each lek in the original graph order\n",
    "    hub_scores = [hub_score_map[i] for i in range(len(graph.vs))]\n",
    "    centrality_scores = [centrality_map[i] for i in range(len(graph.vs))]\n",
    "\n",
    "\n",
    "    # Build the final DataFrame\n",
    "    data = {\n",
    "        'lek': leks,\n",
    "        'x_easting': x_easting,\n",
    "        'y_northing': y_northing,\n",
    "        'hub_score': hub_scores,\n",
    "        'centrality_score': centrality_scores,\n",
    "    }\n",
    "    df = pd.DataFrame(data)\n",
    "    return df"
   ]
  },
  {
   "cell_type": "code",
   "execution_count": 7,
   "metadata": {},
   "outputs": [
    {
     "data": {
      "text/html": [
       "<div>\n",
       "<style scoped>\n",
       "    .dataframe tbody tr th:only-of-type {\n",
       "        vertical-align: middle;\n",
       "    }\n",
       "\n",
       "    .dataframe tbody tr th {\n",
       "        vertical-align: top;\n",
       "    }\n",
       "\n",
       "    .dataframe thead th {\n",
       "        text-align: right;\n",
       "    }\n",
       "</style>\n",
       "<table border=\"1\" class=\"dataframe\">\n",
       "  <thead>\n",
       "    <tr style=\"text-align: right;\">\n",
       "      <th></th>\n",
       "      <th>lek_id</th>\n",
       "      <th>x_easting</th>\n",
       "      <th>y_northing</th>\n",
       "    </tr>\n",
       "  </thead>\n",
       "  <tbody>\n",
       "    <tr>\n",
       "      <th>0</th>\n",
       "      <td>2</td>\n",
       "      <td>672527</td>\n",
       "      <td>3730500</td>\n",
       "    </tr>\n",
       "    <tr>\n",
       "      <th>48</th>\n",
       "      <td>4</td>\n",
       "      <td>669625</td>\n",
       "      <td>3729786</td>\n",
       "    </tr>\n",
       "    <tr>\n",
       "      <th>96</th>\n",
       "      <td>5</td>\n",
       "      <td>670774</td>\n",
       "      <td>3731230</td>\n",
       "    </tr>\n",
       "    <tr>\n",
       "      <th>144</th>\n",
       "      <td>6</td>\n",
       "      <td>673996</td>\n",
       "      <td>3727387</td>\n",
       "    </tr>\n",
       "    <tr>\n",
       "      <th>192</th>\n",
       "      <td>7</td>\n",
       "      <td>675163</td>\n",
       "      <td>3728666</td>\n",
       "    </tr>\n",
       "  </tbody>\n",
       "</table>\n",
       "</div>"
      ],
      "text/plain": [
       "     lek_id  x_easting  y_northing\n",
       "0         2     672527     3730500\n",
       "48        4     669625     3729786\n",
       "96        5     670774     3731230\n",
       "144       6     673996     3727387\n",
       "192       7     675163     3728666"
      ]
     },
     "execution_count": 7,
     "metadata": {},
     "output_type": "execute_result"
    }
   ],
   "source": [
    "# importing the data\n",
    "df = pd.read_csv(\"E:/!!Research/!!!Data/graph_analysis/lek_data/cleaned_data/unk_loc_leks_data/lek_data_binary_yearly_activity_unk_loc_leks.csv\")\n",
    "df.head()\n",
    "\n",
    "# dropping the column from the last time was exported\n",
    "df.drop(['year', 'activity'], axis = 1, inplace = True)\n",
    "unique_leks = df.drop_duplicates()\n",
    "unique_leks.head()"
   ]
  },
  {
   "cell_type": "code",
   "execution_count": 8,
   "metadata": {},
   "outputs": [
    {
     "data": {
      "text/html": [
       "<div>\n",
       "<style scoped>\n",
       "    .dataframe tbody tr th:only-of-type {\n",
       "        vertical-align: middle;\n",
       "    }\n",
       "\n",
       "    .dataframe tbody tr th {\n",
       "        vertical-align: top;\n",
       "    }\n",
       "\n",
       "    .dataframe thead th {\n",
       "        text-align: right;\n",
       "    }\n",
       "</style>\n",
       "<table border=\"1\" class=\"dataframe\">\n",
       "  <thead>\n",
       "    <tr style=\"text-align: right;\">\n",
       "      <th></th>\n",
       "      <th>lek</th>\n",
       "      <th>x_easting</th>\n",
       "      <th>y_northing</th>\n",
       "      <th>max_dsp_hub_score</th>\n",
       "      <th>max_dsp_centrality_score</th>\n",
       "      <th>avg_dsp_hub_score</th>\n",
       "      <th>avg_dsp_centrality_score</th>\n",
       "      <th>rnd_trip_hub_score</th>\n",
       "      <th>rnd_trip_centrality_score</th>\n",
       "      <th>hr_hub_score</th>\n",
       "      <th>hr_centrality_score</th>\n",
       "      <th>k_hub_score</th>\n",
       "      <th>k_centrality_score</th>\n",
       "      <th>k2_hub_score</th>\n",
       "      <th>k2_centrality_score</th>\n",
       "    </tr>\n",
       "  </thead>\n",
       "  <tbody>\n",
       "    <tr>\n",
       "      <th>0</th>\n",
       "      <td>2</td>\n",
       "      <td>672527</td>\n",
       "      <td>3730500</td>\n",
       "      <td>0.945</td>\n",
       "      <td>205.105</td>\n",
       "      <td>0.631</td>\n",
       "      <td>191.884</td>\n",
       "      <td>0.711</td>\n",
       "      <td>489.789</td>\n",
       "      <td>0.561</td>\n",
       "      <td>3651.066</td>\n",
       "      <td>0.000</td>\n",
       "      <td>326.000</td>\n",
       "      <td>0.000</td>\n",
       "      <td>1027.520</td>\n",
       "    </tr>\n",
       "    <tr>\n",
       "      <th>1</th>\n",
       "      <td>4</td>\n",
       "      <td>669625</td>\n",
       "      <td>3729786</td>\n",
       "      <td>0.958</td>\n",
       "      <td>224.770</td>\n",
       "      <td>0.758</td>\n",
       "      <td>687.098</td>\n",
       "      <td>0.762</td>\n",
       "      <td>1958.549</td>\n",
       "      <td>0.476</td>\n",
       "      <td>21173.860</td>\n",
       "      <td>0.000</td>\n",
       "      <td>83.722</td>\n",
       "      <td>0.000</td>\n",
       "      <td>10.353</td>\n",
       "    </tr>\n",
       "    <tr>\n",
       "      <th>2</th>\n",
       "      <td>5</td>\n",
       "      <td>670774</td>\n",
       "      <td>3731230</td>\n",
       "      <td>0.955</td>\n",
       "      <td>219.368</td>\n",
       "      <td>0.684</td>\n",
       "      <td>372.106</td>\n",
       "      <td>0.685</td>\n",
       "      <td>954.002</td>\n",
       "      <td>0.276</td>\n",
       "      <td>265.889</td>\n",
       "      <td>0.000</td>\n",
       "      <td>301.674</td>\n",
       "      <td>0.000</td>\n",
       "      <td>334.802</td>\n",
       "    </tr>\n",
       "    <tr>\n",
       "      <th>3</th>\n",
       "      <td>6</td>\n",
       "      <td>673996</td>\n",
       "      <td>3727387</td>\n",
       "      <td>0.931</td>\n",
       "      <td>182.535</td>\n",
       "      <td>0.657</td>\n",
       "      <td>212.460</td>\n",
       "      <td>0.820</td>\n",
       "      <td>258.645</td>\n",
       "      <td>0.952</td>\n",
       "      <td>931.250</td>\n",
       "      <td>0.085</td>\n",
       "      <td>919.897</td>\n",
       "      <td>0.259</td>\n",
       "      <td>9002.776</td>\n",
       "    </tr>\n",
       "    <tr>\n",
       "      <th>4</th>\n",
       "      <td>7</td>\n",
       "      <td>675163</td>\n",
       "      <td>3728666</td>\n",
       "      <td>0.922</td>\n",
       "      <td>173.611</td>\n",
       "      <td>0.601</td>\n",
       "      <td>135.845</td>\n",
       "      <td>0.762</td>\n",
       "      <td>620.600</td>\n",
       "      <td>0.770</td>\n",
       "      <td>3350.399</td>\n",
       "      <td>0.002</td>\n",
       "      <td>527.547</td>\n",
       "      <td>0.010</td>\n",
       "      <td>466.184</td>\n",
       "    </tr>\n",
       "  </tbody>\n",
       "</table>\n",
       "</div>"
      ],
      "text/plain": [
       "   lek  x_easting  y_northing  max_dsp_hub_score  max_dsp_centrality_score  \\\n",
       "0    2     672527     3730500              0.945                   205.105   \n",
       "1    4     669625     3729786              0.958                   224.770   \n",
       "2    5     670774     3731230              0.955                   219.368   \n",
       "3    6     673996     3727387              0.931                   182.535   \n",
       "4    7     675163     3728666              0.922                   173.611   \n",
       "\n",
       "   avg_dsp_hub_score  avg_dsp_centrality_score  rnd_trip_hub_score  \\\n",
       "0              0.631                   191.884               0.711   \n",
       "1              0.758                   687.098               0.762   \n",
       "2              0.684                   372.106               0.685   \n",
       "3              0.657                   212.460               0.820   \n",
       "4              0.601                   135.845               0.762   \n",
       "\n",
       "   rnd_trip_centrality_score  hr_hub_score  hr_centrality_score  k_hub_score  \\\n",
       "0                    489.789         0.561             3651.066        0.000   \n",
       "1                   1958.549         0.476            21173.860        0.000   \n",
       "2                    954.002         0.276              265.889        0.000   \n",
       "3                    258.645         0.952              931.250        0.085   \n",
       "4                    620.600         0.770             3350.399        0.002   \n",
       "\n",
       "   k_centrality_score  k2_hub_score  k2_centrality_score  \n",
       "0             326.000         0.000             1027.520  \n",
       "1              83.722         0.000               10.353  \n",
       "2             301.674         0.000              334.802  \n",
       "3             919.897         0.259             9002.776  \n",
       "4             527.547         0.010              466.184  "
      ]
     },
     "execution_count": 8,
     "metadata": {},
     "output_type": "execute_result"
    }
   ],
   "source": [
    "# Add the metrics to each of the leks for each distance, then merges them all\n",
    "\n",
    "# For max dispersal\n",
    "max_disperse_df = all_lek_node_metrics_df('E:/!!Research/!!!Data/graph_analysis/igraph_graphs/full_graphs/unk_loc_leks/max_dispersal.adjacency', unique_leks)\n",
    "max_disperse_df2 = max_disperse_df.round(3)\n",
    "max_disperse_df2 = max_disperse_df2.rename(columns = {\"hub_score\" : \"max_dsp_hub_score\", \n",
    "                                                      \"centrality_score\" : \"max_dsp_centrality_score\"})\n",
    "\n",
    "# For average dispersal distance\n",
    "avg_disperse_df = all_lek_node_metrics_df('E:/!!Research/!!!Data/graph_analysis/igraph_graphs/full_graphs/unk_loc_leks/avg_dispersal.adjacency', unique_leks)\n",
    "avg_disperse_df2 = avg_disperse_df.round(3)\n",
    "avg_disperse_df2 = avg_disperse_df2.rename(columns = {\"hub_score\" : \"avg_dsp_hub_score\", \n",
    "                                                      \"centrality_score\" : \"avg_dsp_centrality_score\"})\n",
    "\n",
    "# For average round trip distance\n",
    "rnd_trip_df = all_lek_node_metrics_df('E:/!!Research/!!!Data/graph_analysis/igraph_graphs/full_graphs/unk_loc_leks/rnd_trip.adjacency', unique_leks)\n",
    "rnd_trip_df2 = rnd_trip_df.round(3)\n",
    "rnd_trip_df2 = rnd_trip_df2.rename(columns = {\"hub_score\" : \"rnd_trip_hub_score\", \n",
    "                                              \"centrality_score\" : \"rnd_trip_centrality_score\"})\n",
    "\n",
    "# For home range\n",
    "thresh48_all_df = all_lek_node_metrics_df('E:/!!Research/!!!Data/graph_analysis/igraph_graphs/full_graphs/unk_loc_leks/threshold_48.adjacency', unique_leks)\n",
    "thresh48_all_df2 = thresh48_all_df.round(3)\n",
    "thresh48_all_df2 = thresh48_all_df2.rename(columns = {\"hub_score\" : \"hr_hub_score\", \n",
    "                                                      \"centrality_score\" : \"hr_centrality_score\"})\n",
    "\n",
    "thresh15_all_df = all_lek_node_metrics_df('E:/!!Research/!!!Data/graph_analysis/igraph_graphs/full_graphs/unk_loc_leks/threshold_16.adjacency', unique_leks)\n",
    "thresh15_all_df2 = thresh15_all_df.round(3)\n",
    "thresh15_all_df2 = thresh15_all_df2.rename(columns = {\"hub_score\" : \"k_hub_score\", \n",
    "                                                      \"centrality_score\" : \"k_centrality_score\"})\n",
    "\n",
    "thresh2_all_df = all_lek_node_metrics_df('E:/!!Research/!!!Data/graph_analysis/igraph_graphs/full_graphs/unk_loc_leks/threshold_2.adjacency', unique_leks)\n",
    "thresh2_all_df2 = thresh2_all_df.round(3)\n",
    "thresh2_all_df2 = thresh2_all_df2.rename(columns = {\"hub_score\" : \"k2_hub_score\", \n",
    "                                                    \"centrality_score\" : \"k2_centrality_score\"})\n",
    "\n",
    "# merging all\n",
    "avg_merge = avg_disperse_df2[[\"lek\", \"avg_dsp_hub_score\", \"avg_dsp_centrality_score\"]]\n",
    "rnd_merge = rnd_trip_df2[[\"lek\", \"rnd_trip_hub_score\", \"rnd_trip_centrality_score\"]]\n",
    "hr_merge = thresh48_all_df2[[\"lek\", \"hr_hub_score\", \"hr_centrality_score\"]]\n",
    "k_merge = thresh15_all_df2[[\"lek\", \"k_hub_score\", \"k_centrality_score\"]]\n",
    "k2_merge = thresh2_all_df2[[\"lek\", \"k2_hub_score\", \"k2_centrality_score\"]]\n",
    "all_leks_merge = max_disperse_df2.merge(avg_merge[['lek', 'avg_dsp_hub_score', 'avg_dsp_centrality_score']], how = 'right', on = 'lek')\n",
    "all_leks_merge = all_leks_merge.merge(rnd_merge[['lek', 'rnd_trip_hub_score', 'rnd_trip_centrality_score']], how = 'right', on = 'lek')\n",
    "all_leks_merge = all_leks_merge.merge(hr_merge[['lek', 'hr_hub_score', 'hr_centrality_score']], how = 'right', on = 'lek')\n",
    "all_leks_merge = all_leks_merge.merge(k_merge[['lek', 'k_hub_score', 'k_centrality_score']], how = 'right', on = 'lek')\n",
    "all_leks_merge = all_leks_merge.merge(k2_merge[['lek', 'k2_hub_score', 'k2_centrality_score']], how = 'right', on = 'lek')\n",
    "\n",
    "# exporting csv\n",
    "all_leks_merge.to_csv(\"E:/!!Research/!!!Data/graph_analysis/igraph_metrics_data/test/all_leks_scores1.csv\", index = False)\n",
    "\n",
    "all_leks_merge.head()\n"
   ]
  }
 ],
 "metadata": {
  "kernelspec": {
   "display_name": "graph_env",
   "language": "python",
   "name": "python3"
  },
  "language_info": {
   "codemirror_mode": {
    "name": "ipython",
    "version": 3
   },
   "file_extension": ".py",
   "mimetype": "text/x-python",
   "name": "python",
   "nbconvert_exporter": "python",
   "pygments_lexer": "ipython3",
   "version": "3.12.3"
  }
 },
 "nbformat": 4,
 "nbformat_minor": 2
}
