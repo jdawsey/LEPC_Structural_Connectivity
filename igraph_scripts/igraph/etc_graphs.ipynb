{
 "cells": [
  {
   "cell_type": "markdown",
   "metadata": {},
   "source": [
    "Random script testing"
   ]
  },
  {
   "cell_type": "code",
   "execution_count": 1,
   "metadata": {},
   "outputs": [],
   "source": [
    "import pandas as pd\n",
    "import igraph as ig\n",
    "import numpy as np\n",
    "from pyproj import Transformer\n",
    "import geopandas as gpd\n",
    "from shapely.geometry import Point, LineString\n",
    "import geopandas as gpd\n",
    "import graph_functions as graf"
   ]
  },
  {
   "cell_type": "code",
   "execution_count": null,
   "metadata": {},
   "outputs": [
    {
     "name": "stdout",
     "output_type": "stream",
     "text": [
      "edges exported to shapefile\n"
     ]
    }
   ],
   "source": [
    "# importing the data\n",
    "df = pd.read_csv(\"E:/!!Research/!!!Data/graph_analysis/lek_data/lek_data_binary_rolling_activity.csv\")\n",
    "# dropping the column from the last time was exported\n",
    "df.drop('Unnamed: 0', axis = 1, inplace = True)\n",
    "\n",
    "# filtering the data by year and by activity in the last five years\n",
    "df = df[(df['year'] == 2005) & (df['active_last_5_years'] == 'TRUE')]\n",
    "\n",
    "test_graph = ig.Graph.Read_Adjacency('E:/!!Research/!!!Data/graph_analysis/igraph_graphs/threshold_4_8/2005_48_lek_edges.adjacency')\n",
    "graf.edge_shp_export(test_graph, df, 'E:/!!Research/!!!Data/graph_analysis/spatial_data/threshold_4_8/2005_48_lek_edges.shp')\n",
    "\n",
    "test_graph = ig.Graph.Read_Adjacency('E:/!!Research/!!!Data/graph_analysis/igraph_graphs/average_dispersal/2005_average_dispersal_lek_edges.adjacency')\n",
    "graf.edge_shp_export(test_graph, df, 'E:/!!Research/!!!Data/graph_analysis/spatial_data/average_dispersal/2005_average_dispersal_lek_edges.shp')\n",
    "\n",
    "test_graph = ig.Graph.Read_Adjacency('E:/!!Research/!!!Data/graph_analysis/igraph_graphs/threshold_max_disperse/2005_max_disperse_lek_edges.adjacency')\n",
    "graf.edge_shp_export(test_graph, df, 'E:/!!Research/!!!Data/graph_analysis/spatial_data/threshold_max_disperse/2005_max_disperse_lek_edges.shp')"
   ]
  },
  {
   "cell_type": "markdown",
   "metadata": {},
   "source": [
    "Making a coalescence graph\n",
    "\n",
    "1970 = none, 1971 = 4976 done, 1972 = 4859 done, 1973 = 4859 done, 1974 = 4859 done,\\\n",
    "1975 = 10655 done, 1976 = 9266 done, 1977 = 20708 done, 1978 = 7550 done, 1979 = 7550 done,\\\n",
    "1980 = 7550 done, 1981= 7680 done, 1982 = 7680 done, 1983 = 13266 done, 1984 = 13266 done,\\\n",
    "1985 = 52245 done, 1986 = 44283 done, 1987 = 24152 done, 1988 = 23094 done, 1989 = 23094 done, \\\n",
    "1990 = 23094 done, 1991 = 29960 done, 1992 = 48039 done, 1993 = 54803 done, 1994 = 54803 done, \\\n",
    "1995 = 54803 done, 1996 = 54803 done, 1997 = 54879 done, 1998 = 48832 done, 1999 = 48832 done,\\\n",
    "2000 = 49103 done, 2001 = 49103 done, 2002 = 57048 done, 2003 = 57048 done, 2004 = 54349 done,  \\\n",
    "2005 = 67889 done, 2006 = 63266 done, 2007 = 62028 done, 2008 = 60933 done, 2009 = 60933 done, \\\n",
    "2010 = 60933 done, 2011 = 65280 done, 2012 = 110151 done, 2013 = 107839 done, 2014 = 31988 done, \\\n",
    "2015 = 31988 done, 2016 = 55949 done, 2017 = 55375 done, 2018 = 55375 done"
   ]
  },
  {
   "cell_type": "code",
   "execution_count": 127,
   "metadata": {},
   "outputs": [
    {
     "name": "stdout",
     "output_type": "stream",
     "text": [
      "Number of clusters: 1\n"
     ]
    }
   ],
   "source": [
    "year_export = 2018\n",
    "# importing the data\n",
    "df = pd.read_csv(\"E:/!!Research/!!!Data/graph_analysis/lek_data/lek_data_binary_rolling_activity.csv\")\n",
    "\n",
    "# dropping the column from the last time was exported\n",
    "df.drop('Unnamed: 0', axis = 1, inplace = True)\n",
    "\n",
    "df_active = df[df['active_last_5_years'] == 'TRUE']\n",
    "\n",
    "year_df = df_active[df_active['year'] == year_export]\n",
    "year_graph = graf.threshold_graph(year_df, 55375)\n",
    "\n",
    "num_clusters = len(year_graph.connected_components())\n",
    "print(\"Number of clusters:\", num_clusters)"
   ]
  },
  {
   "cell_type": "code",
   "execution_count": 128,
   "metadata": {},
   "outputs": [
    {
     "name": "stdout",
     "output_type": "stream",
     "text": [
      "edges exported to shapefile\n"
     ]
    }
   ],
   "source": [
    "year_graph.write_adjacency(f'E:/!!Research/!!!Data/graph_analysis/igraph_graphs/coalescence/{year_export}_coalescence.adjacency')\n",
    "graf.edge_shp_export(year_graph, year_df, f'E:/!!Research/!!!Data/graph_analysis/spatial_data/coalescence/{year_export}_coalescence.shp')"
   ]
  },
  {
   "cell_type": "markdown",
   "metadata": {},
   "source": [
    "From other testing"
   ]
  },
  {
   "cell_type": "code",
   "execution_count": null,
   "metadata": {},
   "outputs": [
    {
     "name": "stdout",
     "output_type": "stream",
     "text": [
      "2\n"
     ]
    }
   ],
   "source": [
    "#year_export = 2000\n",
    "# importing the data\n",
    "df = pd.read_csv(\"E:/!!Research/!!!Data/graph_analysis/lek_data/lek_data_binary_rolling_activity.csv\")\n",
    "# dropping the column from the last time was exported\n",
    "df.drop('Unnamed: 0', axis = 1, inplace = True)\n",
    "\n",
    "# filtering the data by year and by activity in the last five years\n",
    "df = df[(df['year'] == year_export) & (df['active_last_5_years'] == 'TRUE')]\n",
    "\n",
    "test_graph = ig.Graph.Read_Adjacency(f'E:/!!Research/!!!Data/graph_analysis/igraph_graphs/coalescence/{year_export}_coalescence.adjacency')\n",
    "print(len(test_graph.connected_components()))\n",
    "\n",
    "#graf.edge_shp_export(test_graph, df, f'E:/!!Research/!!!Data/graph_analysis/spatial_data/coalescence/{year_export}_coalescence.shp')"
   ]
  }
 ],
 "metadata": {
  "kernelspec": {
   "display_name": "graph_env",
   "language": "python",
   "name": "python3"
  },
  "language_info": {
   "codemirror_mode": {
    "name": "ipython",
    "version": 3
   },
   "file_extension": ".py",
   "mimetype": "text/x-python",
   "name": "python",
   "nbconvert_exporter": "python",
   "pygments_lexer": "ipython3",
   "version": "3.12.3"
  }
 },
 "nbformat": 4,
 "nbformat_minor": 2
}
