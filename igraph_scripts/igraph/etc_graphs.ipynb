{
 "cells": [
  {
   "cell_type": "markdown",
   "metadata": {},
   "source": [
    "Random script testing"
   ]
  },
  {
   "cell_type": "code",
   "execution_count": 1,
   "metadata": {},
   "outputs": [],
   "source": [
    "import pandas as pd\n",
    "import igraph as ig\n",
    "import numpy as np\n",
    "from pyproj import Transformer\n",
    "import geopandas as gpd\n",
    "from shapely.geometry import Point, LineString\n",
    "import geopandas as gpd\n",
    "import graph_functions as graf"
   ]
  },
  {
   "cell_type": "code",
   "execution_count": null,
   "metadata": {},
   "outputs": [
    {
     "name": "stdout",
     "output_type": "stream",
     "text": [
      "edges exported to shapefile\n"
     ]
    }
   ],
   "source": [
    "# importing the data\n",
    "df = pd.read_csv(\"E:/!!Research/!!!Data/graph_analysis/lek_data/lek_data_binary_rolling_activity.csv\")\n",
    "# dropping the column from the last time was exported\n",
    "df.drop('Unnamed: 0', axis = 1, inplace = True)\n",
    "\n",
    "# filtering the data by year and by activity in the last five years\n",
    "df = df[(df['year'] == 2005) & (df['active_last_5_years'] == 'TRUE')]\n",
    "\n",
    "test_graph = ig.Graph.Read_Adjacency('E:/!!Research/!!!Data/graph_analysis/igraph_graphs/threshold_4_8/2005_48_lek_edges.adjacency')\n",
    "graf.edge_shp_export(test_graph, df, 'E:/!!Research/!!!Data/graph_analysis/spatial_data/threshold_4_8/2005_48_lek_edges.shp')\n",
    "\n",
    "test_graph = ig.Graph.Read_Adjacency('E:/!!Research/!!!Data/graph_analysis/igraph_graphs/average_dispersal/2005_average_dispersal_lek_edges.adjacency')\n",
    "graf.edge_shp_export(test_graph, df, 'E:/!!Research/!!!Data/graph_analysis/spatial_data/average_dispersal/2005_average_dispersal_lek_edges.shp')\n",
    "\n",
    "test_graph = ig.Graph.Read_Adjacency('E:/!!Research/!!!Data/graph_analysis/igraph_graphs/threshold_max_disperse/2005_max_disperse_lek_edges.adjacency')\n",
    "graf.edge_shp_export(test_graph, df, 'E:/!!Research/!!!Data/graph_analysis/spatial_data/threshold_max_disperse/2005_max_disperse_lek_edges.shp')"
   ]
  },
  {
   "cell_type": "code",
   "execution_count": 3,
   "metadata": {},
   "outputs": [
    {
     "name": "stdout",
     "output_type": "stream",
     "text": [
      "edges exported to shapefile\n"
     ]
    }
   ],
   "source": [
    "# importing the data\n",
    "df = pd.read_csv(\"E:/!!Research/!!!Data/graph_analysis/lek_data/lek_data_binary_rolling_activity.csv\")\n",
    "# dropping the column from the last time was exported\n",
    "df.drop('Unnamed: 0', axis = 1, inplace = True)\n",
    "\n",
    "# filtering the data by year and by activity in the last five years\n",
    "df = df[(df['year'] == 2014) & (df['active_last_5_years'] == 'TRUE')]\n",
    "\n",
    "test_graph = ig.Graph.Read_Adjacency('E:/!!Research/!!!Data/graph_analysis/igraph_graphs/coalescence/2014_coalescence_lek_edges.adjacency')\n",
    "graf.edge_shp_export(test_graph, df, 'E:/!!Research/!!!Data/graph_analysis/spatial_data/coalescence/2014_coalescence_lek_edges.shp')"
   ]
  }
 ],
 "metadata": {
  "kernelspec": {
   "display_name": "graph_env",
   "language": "python",
   "name": "python3"
  },
  "language_info": {
   "codemirror_mode": {
    "name": "ipython",
    "version": 3
   },
   "file_extension": ".py",
   "mimetype": "text/x-python",
   "name": "python",
   "nbconvert_exporter": "python",
   "pygments_lexer": "ipython3",
   "version": "3.12.3"
  }
 },
 "nbformat": 4,
 "nbformat_minor": 2
}
