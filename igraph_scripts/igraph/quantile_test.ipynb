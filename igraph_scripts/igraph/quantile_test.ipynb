{
 "cells": [
  {
   "cell_type": "code",
   "execution_count": 2,
   "metadata": {},
   "outputs": [],
   "source": [
    "import numpy as np"
   ]
  },
  {
   "cell_type": "code",
   "execution_count": 5,
   "metadata": {},
   "outputs": [
    {
     "name": "stdout",
     "output_type": "stream",
     "text": [
      "Q1: 21.0\n",
      "Median: 41.0\n",
      "Q3: 49.75\n"
     ]
    }
   ],
   "source": [
    "data = [13, 21, 21, 40, 42, 48, 55, 72]\n",
    "\n",
    "# Calculate the 25th percentile (first quartile)\n",
    "q1 = np.quantile(data, 0.25)\n",
    "\n",
    "# Calculate the 50th percentile (median)\n",
    "median = np.quantile(data, 0.5)\n",
    "\n",
    "# Calculate the 75th percentile (third quartile)\n",
    "q3 = np.quantile(data, 0.75)\n",
    "\n",
    "print(\"Q1:\", q1)\n",
    "print(\"Median:\", median)\n",
    "print(\"Q3:\", q3)"
   ]
  },
  {
   "cell_type": "code",
   "execution_count": 4,
   "metadata": {},
   "outputs": [
    {
     "data": {
      "text/plain": [
       "[False, False, False, False, False, False, False, True]"
      ]
     },
     "execution_count": 4,
     "metadata": {},
     "output_type": "execute_result"
    }
   ],
   "source": [
    "threshold_quantile = np.quantile(data, 0.9)\n",
    "above_quantile = [(data[i] > threshold_quantile) for i in range(len(data))]\n",
    "\n",
    "above_quantile"
   ]
  },
  {
   "cell_type": "code",
   "execution_count": 8,
   "metadata": {},
   "outputs": [
    {
     "data": {
      "text/plain": [
       "[False, False, False, False, False, False, False, True]"
      ]
     },
     "execution_count": 8,
     "metadata": {},
     "output_type": "execute_result"
    }
   ],
   "source": [
    "above_quantile = (data >= np.quantile(data, 0.9)).tolist()\n",
    "above_quantile"
   ]
  },
  {
   "cell_type": "code",
   "execution_count": 10,
   "metadata": {},
   "outputs": [
    {
     "data": {
      "text/plain": [
       "[False, False, False, False, False, False, False, False]"
      ]
     },
     "execution_count": 10,
     "metadata": {},
     "output_type": "execute_result"
    }
   ],
   "source": [
    "my_list = [False] * len(data)\n",
    "my_list"
   ]
  }
 ],
 "metadata": {
  "kernelspec": {
   "display_name": "graph_env",
   "language": "python",
   "name": "python3"
  },
  "language_info": {
   "codemirror_mode": {
    "name": "ipython",
    "version": 3
   },
   "file_extension": ".py",
   "mimetype": "text/x-python",
   "name": "python",
   "nbconvert_exporter": "python",
   "pygments_lexer": "ipython3",
   "version": "3.12.3"
  }
 },
 "nbformat": 4,
 "nbformat_minor": 2
}
