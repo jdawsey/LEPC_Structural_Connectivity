{
 "cells": [
  {
   "cell_type": "code",
   "execution_count": 1,
   "metadata": {},
   "outputs": [],
   "source": [
    "import pandas as pd"
   ]
  },
  {
   "cell_type": "code",
   "execution_count": 67,
   "metadata": {},
   "outputs": [
    {
     "data": {
      "text/html": [
       "<div>\n",
       "<style scoped>\n",
       "    .dataframe tbody tr th:only-of-type {\n",
       "        vertical-align: middle;\n",
       "    }\n",
       "\n",
       "    .dataframe tbody tr th {\n",
       "        vertical-align: top;\n",
       "    }\n",
       "\n",
       "    .dataframe thead th {\n",
       "        text-align: right;\n",
       "    }\n",
       "</style>\n",
       "<table border=\"1\" class=\"dataframe\">\n",
       "  <thead>\n",
       "    <tr style=\"text-align: right;\">\n",
       "      <th></th>\n",
       "      <th>lek_id</th>\n",
       "      <th>year</th>\n",
       "      <th>activity</th>\n",
       "      <th>x_easting</th>\n",
       "      <th>y_northing</th>\n",
       "    </tr>\n",
       "  </thead>\n",
       "  <tbody>\n",
       "    <tr>\n",
       "      <th>0</th>\n",
       "      <td>2</td>\n",
       "      <td>2007</td>\n",
       "      <td>True</td>\n",
       "      <td>672527</td>\n",
       "      <td>3730500</td>\n",
       "    </tr>\n",
       "    <tr>\n",
       "      <th>1</th>\n",
       "      <td>2</td>\n",
       "      <td>2008</td>\n",
       "      <td>True</td>\n",
       "      <td>672527</td>\n",
       "      <td>3730500</td>\n",
       "    </tr>\n",
       "    <tr>\n",
       "      <th>2</th>\n",
       "      <td>2</td>\n",
       "      <td>2009</td>\n",
       "      <td>True</td>\n",
       "      <td>672527</td>\n",
       "      <td>3730500</td>\n",
       "    </tr>\n",
       "    <tr>\n",
       "      <th>3</th>\n",
       "      <td>2</td>\n",
       "      <td>2010</td>\n",
       "      <td>True</td>\n",
       "      <td>672527</td>\n",
       "      <td>3730500</td>\n",
       "    </tr>\n",
       "    <tr>\n",
       "      <th>4</th>\n",
       "      <td>4</td>\n",
       "      <td>2007</td>\n",
       "      <td>True</td>\n",
       "      <td>669625</td>\n",
       "      <td>3729786</td>\n",
       "    </tr>\n",
       "  </tbody>\n",
       "</table>\n",
       "</div>"
      ],
      "text/plain": [
       "   lek_id  year  activity  x_easting  y_northing\n",
       "0       2  2007      True     672527     3730500\n",
       "1       2  2008      True     672527     3730500\n",
       "2       2  2009      True     672527     3730500\n",
       "3       2  2010      True     672527     3730500\n",
       "4       4  2007      True     669625     3729786"
      ]
     },
     "execution_count": 67,
     "metadata": {},
     "output_type": "execute_result"
    }
   ],
   "source": [
    "df = pd.read_csv(\"E:/!!Research/!!!Data/graph_analysis/lek_data/lek_data_binary_cleaned.csv\")\n",
    "df.head()"
   ]
  },
  {
   "cell_type": "code",
   "execution_count": 68,
   "metadata": {},
   "outputs": [
    {
     "name": "stdout",
     "output_type": "stream",
     "text": [
      "       lek_id  year  x_easting  y_northing      activity\n",
      "0           2  1971     672527     3730500  not surveyed\n",
      "1           2  1972     672527     3730500  not surveyed\n",
      "2           2  1973     672527     3730500  not surveyed\n",
      "3           2  1974     672527     3730500  not surveyed\n",
      "4           2  1975     672527     3730500  not surveyed\n",
      "...       ...   ...        ...         ...           ...\n",
      "26587   99999  2014     649863     3714293         False\n",
      "26588   99999  2015     649863     3714293  not surveyed\n",
      "26589   99999  2016     649863     3714293  not surveyed\n",
      "26590   99999  2017     649863     3714293  not surveyed\n",
      "26591   99999  2018     649863     3714293  not surveyed\n",
      "\n",
      "[26592 rows x 5 columns]\n"
     ]
    }
   ],
   "source": [
    "# Define the range of years you want\n",
    "years = range(df['year'].min(), df['year'].max() + 1)\n",
    "\n",
    "# Create a complete DataFrame for all leks and years\n",
    "leks = df['lek_id'].unique()\n",
    "complete_index = pd.MultiIndex.from_product([leks, years], names=['lek_id', 'year'])\n",
    "complete_df = pd.DataFrame(index=complete_index).reset_index()\n",
    "\n",
    "# Check the columns in the original DataFrame\n",
    "#print(\"Original DataFrame columns:\", df.columns)\n",
    "\n",
    "# Create a unique DataFrame to maintain site info and coordinates\n",
    "unique_sites_df = df[['lek_id', 'x_easting', 'y_northing']].drop_duplicates()\n",
    "\n",
    "# Merge the unique sites DataFrame with the complete DataFrame\n",
    "result_df = pd.merge(complete_df, unique_sites_df, on='lek_id', how='left')\n",
    "\n",
    "# Now merge the activity data\n",
    "df = pd.merge(result_df, df[['lek_id', 'year', 'activity']], on=['lek_id', 'year'], how='left')\n",
    "\n",
    "# Replace NaN values in the 'activity' column with \"not surveyed\"\n",
    "df['activity'] = df['activity'].fillna('not surveyed')\n",
    "\n",
    "# Display the result\n",
    "print(df)"
   ]
  },
  {
   "cell_type": "code",
   "execution_count": 65,
   "metadata": {},
   "outputs": [
    {
     "name": "stdout",
     "output_type": "stream",
     "text": [
      "       lek_id  year  x_easting  y_northing activity active_last_5_years  \\\n",
      "0           2  1971     672527     3730500      NaN               FALSE   \n",
      "1           2  1972     672527     3730500      NaN               FALSE   \n",
      "2           2  1973     672527     3730500      NaN               FALSE   \n",
      "3           2  1974     672527     3730500      NaN               FALSE   \n",
      "4           2  1975     672527     3730500      NaN               FALSE   \n",
      "...       ...   ...        ...         ...      ...                 ...   \n",
      "26587   99999  2014     649863     3714293    False                TRUE   \n",
      "26588   99999  2015     649863     3714293      NaN                TRUE   \n",
      "26589   99999  2016     649863     3714293      NaN                TRUE   \n",
      "26590   99999  2017     649863     3714293      NaN                TRUE   \n",
      "26591   99999  2018     649863     3714293      NaN               FALSE   \n",
      "\n",
      "       active_count_last_5_years  \n",
      "0                              0  \n",
      "1                              0  \n",
      "2                              0  \n",
      "3                              0  \n",
      "4                              0  \n",
      "...                          ...  \n",
      "26587                          4  \n",
      "26588                          3  \n",
      "26589                          2  \n",
      "26590                          1  \n",
      "26591                          0  \n",
      "\n",
      "[26592 rows x 7 columns]\n"
     ]
    },
    {
     "name": "stderr",
     "output_type": "stream",
     "text": [
      "C:\\Users\\Justin\\AppData\\Local\\Temp\\ipykernel_16892\\4085168194.py:14: DeprecationWarning: DataFrameGroupBy.apply operated on the grouping columns. This behavior is deprecated, and in a future version of pandas the grouping columns will be excluded from the operation. Either pass `include_groups=False` to exclude the groupings or explicitly select the grouping columns after groupby to silence this warning.\n",
      "  df['active_last_5_years'] = df.groupby('lek_id', group_keys=False).apply(calculate_active_status)\n",
      "C:\\Users\\Justin\\AppData\\Local\\Temp\\ipykernel_16892\\4085168194.py:24: DeprecationWarning: DataFrameGroupBy.apply operated on the grouping columns. This behavior is deprecated, and in a future version of pandas the grouping columns will be excluded from the operation. Either pass `include_groups=False` to exclude the groupings or explicitly select the grouping columns after groupby to silence this warning.\n",
      "  df['active_count_last_5_years'] = df.groupby('lek_id', group_keys=False).apply(count_active_years)\n"
     ]
    }
   ],
   "source": [
    "# Convert 'activity' from string to boolean\n",
    "#df['activity'] = df['activity'].map({'True': True, 'False': False})\n",
    "\n",
    "# Sort by 'lek_id' and 'year' to ensure proper cumulative and rolling calculation\n",
    "df = df.sort_values(by=['lek_id', 'year']).reset_index(drop=True)\n",
    "\n",
    "# Create active_last_5_years column\n",
    "def calculate_active_status(group):\n",
    "    # Rolling maximum and shift to exclude the current year\n",
    "    active_status = group['activity'].rolling(window=5, min_periods=1).max().shift()\n",
    "    return active_status.fillna(False)\n",
    "\n",
    "# Apply the function to each group\n",
    "df['active_last_5_years'] = df.groupby('lek_id', group_keys=False).apply(calculate_active_status)\n",
    "\n",
    "# Convert to 'TRUE'/'FALSE' for readability\n",
    "df['active_last_5_years'] = df['active_last_5_years'].map({True: 'TRUE', False: 'FALSE'})\n",
    "\n",
    "# Count active years in the last 5 years, shifted to exclude the current year\n",
    "def count_active_years(group):\n",
    "    return group['activity'].rolling(window=5, min_periods=1).sum().shift().fillna(0).astype(int)\n",
    "\n",
    "# Apply the function to each group for counting\n",
    "df['active_count_last_5_years'] = df.groupby('lek_id', group_keys=False).apply(count_active_years)\n",
    "\n",
    "print(df)"
   ]
  },
  {
   "cell_type": "code",
   "execution_count": 66,
   "metadata": {},
   "outputs": [],
   "source": [
    "df.to_csv(\"E:/!!Research/!!!Data/graph_analysis/lek_data/lek_data_binary_rolling_activity.csv\")"
   ]
  }
 ],
 "metadata": {
  "kernelspec": {
   "display_name": "graph_env",
   "language": "python",
   "name": "python3"
  },
  "language_info": {
   "codemirror_mode": {
    "name": "ipython",
    "version": 3
   },
   "file_extension": ".py",
   "mimetype": "text/x-python",
   "name": "python",
   "nbconvert_exporter": "python",
   "pygments_lexer": "ipython3",
   "version": "3.12.3"
  }
 },
 "nbformat": 4,
 "nbformat_minor": 2
}
