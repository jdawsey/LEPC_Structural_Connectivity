{
 "cells": [
  {
   "cell_type": "code",
   "execution_count": 1,
   "metadata": {},
   "outputs": [],
   "source": [
    "import pandas as pd"
   ]
  },
  {
   "cell_type": "code",
   "execution_count": 2,
   "metadata": {},
   "outputs": [
    {
     "name": "stdout",
     "output_type": "stream",
     "text": [
      "   site  year activity\n",
      "0     A  2001     True\n",
      "1     A  2002    False\n",
      "2     A  2003      NaN\n",
      "3     A  2004     True\n",
      "4     A  2005      NaN\n",
      "5     B  2001      NaN\n",
      "6     B  2002     True\n",
      "7     B  2003    False\n",
      "8     B  2004      NaN\n",
      "9     B  2005      NaN\n",
      "10    C  2001      NaN\n",
      "11    C  2002    False\n",
      "12    C  2003      NaN\n",
      "13    C  2004      NaN\n",
      "14    C  2005     True\n"
     ]
    }
   ],
   "source": [
    "# Sample data: replace this with your actual data\n",
    "data = {\n",
    "    'site': ['A', 'A', 'A', 'B', 'B', 'C', 'C'],\n",
    "    'year': [2001, 2002, 2004, 2002, 2003, 2002, 2005],\n",
    "    'activity': [True, False, True, True, False, False, True]\n",
    "}\n",
    "\n",
    "# Create a DataFrame from your data\n",
    "df = pd.DataFrame(data)\n",
    "\n",
    "# Define the range of years you want\n",
    "years = range(df['year'].min(), df['year'].max() + 1)\n",
    "\n",
    "# Create a complete DataFrame for all sites and years\n",
    "sites = df['site'].unique()\n",
    "complete_index = pd.MultiIndex.from_product([sites, years], names=['site', 'year'])\n",
    "complete_df = pd.DataFrame(index=complete_index).reset_index()\n",
    "\n",
    "# Merge with the original DataFrame\n",
    "result_df = pd.merge(complete_df, df, on=['site', 'year'], how='left')\n",
    "\n",
    "# Display the result\n",
    "print(result_df)"
   ]
  }
 ],
 "metadata": {
  "kernelspec": {
   "display_name": "graph_env",
   "language": "python",
   "name": "python3"
  },
  "language_info": {
   "codemirror_mode": {
    "name": "ipython",
    "version": 3
   },
   "file_extension": ".py",
   "mimetype": "text/x-python",
   "name": "python",
   "nbconvert_exporter": "python",
   "pygments_lexer": "ipython3",
   "version": "3.12.3"
  }
 },
 "nbformat": 4,
 "nbformat_minor": 2
}
