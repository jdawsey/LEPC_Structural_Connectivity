{
 "cells": [
  {
   "cell_type": "code",
   "execution_count": 1,
   "metadata": {},
   "outputs": [],
   "source": [
    "import pandas as pd"
   ]
  },
  {
   "cell_type": "code",
   "execution_count": 29,
   "metadata": {},
   "outputs": [
    {
     "data": {
      "text/html": [
       "<div>\n",
       "<style scoped>\n",
       "    .dataframe tbody tr th:only-of-type {\n",
       "        vertical-align: middle;\n",
       "    }\n",
       "\n",
       "    .dataframe tbody tr th {\n",
       "        vertical-align: top;\n",
       "    }\n",
       "\n",
       "    .dataframe thead th {\n",
       "        text-align: right;\n",
       "    }\n",
       "</style>\n",
       "<table border=\"1\" class=\"dataframe\">\n",
       "  <thead>\n",
       "    <tr style=\"text-align: right;\">\n",
       "      <th></th>\n",
       "      <th>lek_id</th>\n",
       "      <th>year</th>\n",
       "      <th>activity</th>\n",
       "      <th>x_easting</th>\n",
       "      <th>y_northing</th>\n",
       "    </tr>\n",
       "  </thead>\n",
       "  <tbody>\n",
       "    <tr>\n",
       "      <th>0</th>\n",
       "      <td>2</td>\n",
       "      <td>2007</td>\n",
       "      <td>True</td>\n",
       "      <td>672527</td>\n",
       "      <td>3730500</td>\n",
       "    </tr>\n",
       "    <tr>\n",
       "      <th>1</th>\n",
       "      <td>2</td>\n",
       "      <td>2008</td>\n",
       "      <td>True</td>\n",
       "      <td>672527</td>\n",
       "      <td>3730500</td>\n",
       "    </tr>\n",
       "    <tr>\n",
       "      <th>2</th>\n",
       "      <td>2</td>\n",
       "      <td>2009</td>\n",
       "      <td>True</td>\n",
       "      <td>672527</td>\n",
       "      <td>3730500</td>\n",
       "    </tr>\n",
       "    <tr>\n",
       "      <th>3</th>\n",
       "      <td>2</td>\n",
       "      <td>2010</td>\n",
       "      <td>True</td>\n",
       "      <td>672527</td>\n",
       "      <td>3730500</td>\n",
       "    </tr>\n",
       "    <tr>\n",
       "      <th>4</th>\n",
       "      <td>4</td>\n",
       "      <td>2007</td>\n",
       "      <td>True</td>\n",
       "      <td>669625</td>\n",
       "      <td>3729786</td>\n",
       "    </tr>\n",
       "  </tbody>\n",
       "</table>\n",
       "</div>"
      ],
      "text/plain": [
       "   lek_id  year  activity  x_easting  y_northing\n",
       "0       2  2007      True     672527     3730500\n",
       "1       2  2008      True     672527     3730500\n",
       "2       2  2009      True     672527     3730500\n",
       "3       2  2010      True     672527     3730500\n",
       "4       4  2007      True     669625     3729786"
      ]
     },
     "execution_count": 29,
     "metadata": {},
     "output_type": "execute_result"
    }
   ],
   "source": [
    "df = pd.read_csv(\"E:/!!Research/!!!Data/graph_analysis/lek_data/lek_data_binary_cleaned.csv\")\n",
    "df.head()"
   ]
  },
  {
   "cell_type": "code",
   "execution_count": 30,
   "metadata": {},
   "outputs": [
    {
     "name": "stdout",
     "output_type": "stream",
     "text": [
      "       lek_id  year  x_easting  y_northing      activity\n",
      "0           2  1971     672527     3730500  not surveyed\n",
      "1           2  1972     672527     3730500  not surveyed\n",
      "2           2  1973     672527     3730500  not surveyed\n",
      "3           2  1974     672527     3730500  not surveyed\n",
      "4           2  1975     672527     3730500  not surveyed\n",
      "...       ...   ...        ...         ...           ...\n",
      "26587   99999  2014     649863     3714293         False\n",
      "26588   99999  2015     649863     3714293  not surveyed\n",
      "26589   99999  2016     649863     3714293  not surveyed\n",
      "26590   99999  2017     649863     3714293  not surveyed\n",
      "26591   99999  2018     649863     3714293  not surveyed\n",
      "\n",
      "[26592 rows x 5 columns]\n"
     ]
    }
   ],
   "source": [
    "# Define the range of years you want\n",
    "years = range(df['year'].min(), df['year'].max() + 1)\n",
    "\n",
    "# Create a complete DataFrame for all leks and years\n",
    "leks = df['lek_id'].unique()\n",
    "complete_index = pd.MultiIndex.from_product([leks, years], names=['lek_id', 'year'])\n",
    "complete_df = pd.DataFrame(index=complete_index).reset_index()\n",
    "\n",
    "# Check the columns in the original DataFrame\n",
    "#print(\"Original DataFrame columns:\", df.columns)\n",
    "\n",
    "# Create a unique DataFrame to maintain site info and coordinates\n",
    "unique_sites_df = df[['lek_id', 'x_easting', 'y_northing']].drop_duplicates()\n",
    "\n",
    "# Merge the unique sites DataFrame with the complete DataFrame\n",
    "result_df = pd.merge(complete_df, unique_sites_df, on='lek_id', how='left')\n",
    "\n",
    "# Now merge the activity data\n",
    "df = pd.merge(result_df, df[['lek_id', 'year', 'activity']], on=['lek_id', 'year'], how='left')\n",
    "\n",
    "# Replace NaN values in the 'activity' column with \"not surveyed\"\n",
    "df['activity'] = df['activity'].fillna('not surveyed')\n",
    "\n",
    "# Display the result\n",
    "print(df)"
   ]
  },
  {
   "cell_type": "code",
   "execution_count": 31,
   "metadata": {},
   "outputs": [
    {
     "name": "stdout",
     "output_type": "stream",
     "text": [
      "       lek_id       year  x_easting  y_northing      activity  \\\n",
      "0           2 1971-01-01     672527     3730500  not surveyed   \n",
      "1           2 1972-01-01     672527     3730500  not surveyed   \n",
      "2           2 1973-01-01     672527     3730500  not surveyed   \n",
      "3           2 1974-01-01     672527     3730500  not surveyed   \n",
      "4           2 1975-01-01     672527     3730500  not surveyed   \n",
      "...       ...        ...        ...         ...           ...   \n",
      "26587   99999 2014-01-01     649863     3714293         False   \n",
      "26588   99999 2015-01-01     649863     3714293  not surveyed   \n",
      "26589   99999 2016-01-01     649863     3714293  not surveyed   \n",
      "26590   99999 2017-01-01     649863     3714293  not surveyed   \n",
      "26591   99999 2018-01-01     649863     3714293  not surveyed   \n",
      "\n",
      "            active_last_5_years  \n",
      "0      Inactive or not surveyed  \n",
      "1      Inactive or not surveyed  \n",
      "2      Inactive or not surveyed  \n",
      "3      Inactive or not surveyed  \n",
      "4      Inactive or not surveyed  \n",
      "...                         ...  \n",
      "26587                      True  \n",
      "26588                      True  \n",
      "26589                      True  \n",
      "26590  Inactive or not surveyed  \n",
      "26591  Inactive or not surveyed  \n",
      "\n",
      "[26592 rows x 6 columns]\n"
     ]
    },
    {
     "name": "stderr",
     "output_type": "stream",
     "text": [
      "C:\\Users\\Justin\\AppData\\Local\\Temp\\ipykernel_12748\\1760865202.py:33: DeprecationWarning: DataFrameGroupBy.apply operated on the grouping columns. This behavior is deprecated, and in a future version of pandas the grouping columns will be excluded from the operation. Either pass `include_groups=False` to exclude the groupings or explicitly select the grouping columns after groupby to silence this warning.\n",
      "  df['active_last_5_years'] = df.groupby('lek_id', group_keys=False).apply(check_activity_last_5_years)\n"
     ]
    }
   ],
   "source": [
    "# Convert 'year' column to datetime for time calculations\n",
    "df['year'] = pd.to_datetime(df['year'], format='%Y')\n",
    "\n",
    "# Sort by lek and year\n",
    "df = df.sort_values(by=['lek_id', 'year'])\n",
    "\n",
    "# Initialize a new column for activity in the last five years\n",
    "df['active_last_5_years'] = False\n",
    "\n",
    "# Modified function to check last 5 years and reset the index for proper alignment\n",
    "def check_activity_last_5_years(group):\n",
    "    years = group['year'].dt.year\n",
    "    activity_status = []\n",
    "    \n",
    "    for i in range(len(group)):\n",
    "        # Define the 5-year range\n",
    "        start_year = years.iloc[i] - 4\n",
    "        # Slice to get the last 5 years' activities\n",
    "        recent_activities = group[(years >= start_year) & (years <= years.iloc[i])]['activity']\n",
    "        \n",
    "        # Check if 'True' exists in the last 5 years\n",
    "        if True in recent_activities.values:\n",
    "            activity_status.append('True')\n",
    "        #elif 'not surveyed' not in recent_activities.values and recent_activities.size > 0:\n",
    "        #    activity_status.append('Not Surveyed Over 5 Years')\n",
    "        else:\n",
    "            activity_status.append('Inactive or not surveyed')\n",
    "    \n",
    "    # Return a properly aligned series with the original index\n",
    "    return pd.Series(activity_status, index=group.index)\n",
    "\n",
    "# Apply the function by lek\n",
    "df['active_last_5_years'] = df.groupby('lek_id', group_keys=False).apply(check_activity_last_5_years)\n",
    "\n",
    "print(df)"
   ]
  },
  {
   "cell_type": "code",
   "execution_count": 32,
   "metadata": {},
   "outputs": [],
   "source": [
    "df.to_csv(\"E:/!!Research/!!!Data/graph_analysis/lek_data/lek_data_binary_rolling_activity.csv\")"
   ]
  },
  {
   "cell_type": "markdown",
   "metadata": {},
   "source": [
    "If wanting to examine more parts of the data, use below chunks."
   ]
  },
  {
   "cell_type": "markdown",
   "metadata": {},
   "source": [
    "This chunk is looking at years since last activity."
   ]
  },
  {
   "cell_type": "code",
   "execution_count": 24,
   "metadata": {},
   "outputs": [
    {
     "name": "stdout",
     "output_type": "stream",
     "text": [
      "       lek_id       year  x_easting  y_northing      activity  \\\n",
      "0           2 1971-01-01     672527     3730500  not surveyed   \n",
      "1           2 1972-01-01     672527     3730500  not surveyed   \n",
      "2           2 1973-01-01     672527     3730500  not surveyed   \n",
      "3           2 1974-01-01     672527     3730500  not surveyed   \n",
      "4           2 1975-01-01     672527     3730500  not surveyed   \n",
      "...       ...        ...        ...         ...           ...   \n",
      "26587   99999 2014-01-01     649863     3714293         False   \n",
      "26588   99999 2015-01-01     649863     3714293  not surveyed   \n",
      "26589   99999 2016-01-01     649863     3714293  not surveyed   \n",
      "26590   99999 2017-01-01     649863     3714293  not surveyed   \n",
      "26591   99999 2018-01-01     649863     3714293  not surveyed   \n",
      "\n",
      "            active_last_5_years  years_since_last_active  \n",
      "0      Inactive or not surveyed                      NaN  \n",
      "1      Inactive or not surveyed                      NaN  \n",
      "2      Inactive or not surveyed                      NaN  \n",
      "3      Inactive or not surveyed                      NaN  \n",
      "4      Inactive or not surveyed                      NaN  \n",
      "...                         ...                      ...  \n",
      "26587                      True                      2.0  \n",
      "26588                      True                      3.0  \n",
      "26589                      True                      4.0  \n",
      "26590  Inactive or not surveyed                      5.0  \n",
      "26591  Inactive or not surveyed                      6.0  \n",
      "\n",
      "[26592 rows x 7 columns]\n"
     ]
    },
    {
     "name": "stderr",
     "output_type": "stream",
     "text": [
      "C:\\Users\\Justin\\AppData\\Local\\Temp\\ipykernel_12748\\1513837516.py:46: FutureWarning: The behavior of DataFrame concatenation with empty or all-NA entries is deprecated. In a future version, this will no longer exclude empty or all-NA columns when determining the result dtypes. To retain the old behavior, exclude the relevant entries before the concat operation.\n",
      "  df[['active_last_5_years', 'years_since_last_active']] = df.groupby('lek_id', group_keys=False).apply(check_activity_last_5_years)\n",
      "C:\\Users\\Justin\\AppData\\Local\\Temp\\ipykernel_12748\\1513837516.py:46: DeprecationWarning: DataFrameGroupBy.apply operated on the grouping columns. This behavior is deprecated, and in a future version of pandas the grouping columns will be excluded from the operation. Either pass `include_groups=False` to exclude the groupings or explicitly select the grouping columns after groupby to silence this warning.\n",
      "  df[['active_last_5_years', 'years_since_last_active']] = df.groupby('lek_id', group_keys=False).apply(check_activity_last_5_years)\n"
     ]
    }
   ],
   "source": [
    "# Convert 'year' column to datetime for time calculations\n",
    "df['year'] = pd.to_datetime(df['year'], format='%Y')\n",
    "\n",
    "# Sort by lek and year\n",
    "df = df.sort_values(by=['lek_id', 'year'])\n",
    "\n",
    "# Initialize a new column for activity in the last five years and years since last \"True\" activity\n",
    "df['active_last_5_years'] = False\n",
    "df['years_since_last_active'] = None\n",
    "\n",
    "# Modified function to check last 5 years and reset the index for proper alignment\n",
    "def check_activity_last_5_years(group):\n",
    "    years = group['year'].dt.year\n",
    "    activity_status = []\n",
    "    years_since_last_active = []\n",
    "    last_active_year = None  # To track the most recent year with \"True\" activity\n",
    "\n",
    "    for i in range(len(group)):\n",
    "        # Define the 5-year range\n",
    "        start_year = years.iloc[i] - 4\n",
    "        # Slice to get the last 5 years' activities\n",
    "        recent_activities = group[(years >= start_year) & (years <= years.iloc[i])][['activity', 'year']]\n",
    "\n",
    "        # Check if 'True' exists in the last 5 years\n",
    "        if True in recent_activities['activity'].values:\n",
    "            activity_status.append('True')\n",
    "            last_active_year = recent_activities[recent_activities['activity'] == True]['year'].max().year\n",
    "            years_since_last_active.append(years.iloc[i] - last_active_year)\n",
    "        elif 'not surveyed' not in recent_activities['activity'].values and recent_activities.size > 0:\n",
    "            activity_status.append('Not Surveyed Over 5 Years')\n",
    "            years_since_last_active.append(None)  # Not surveyed over 5 years\n",
    "        else:\n",
    "            activity_status.append('Inactive or not surveyed')\n",
    "            if last_active_year is not None:\n",
    "                years_since_last_active.append(years.iloc[i] - last_active_year)\n",
    "            else:\n",
    "                years_since_last_active.append(None)\n",
    "\n",
    "    # Return two series with proper alignment\n",
    "    return pd.DataFrame({\n",
    "        'active_last_5_years': activity_status,\n",
    "        'years_since_last_active': years_since_last_active\n",
    "    }, index=group.index)\n",
    "\n",
    "# Apply the function by lek\n",
    "df[['active_last_5_years', 'years_since_last_active']] = df.groupby('lek_id', group_keys=False).apply(check_activity_last_5_years)\n",
    "\n",
    "print(df)"
   ]
  }
 ],
 "metadata": {
  "kernelspec": {
   "display_name": "graph_env",
   "language": "python",
   "name": "python3"
  },
  "language_info": {
   "codemirror_mode": {
    "name": "ipython",
    "version": 3
   },
   "file_extension": ".py",
   "mimetype": "text/x-python",
   "name": "python",
   "nbconvert_exporter": "python",
   "pygments_lexer": "ipython3",
   "version": "3.12.3"
  }
 },
 "nbformat": 4,
 "nbformat_minor": 2
}
